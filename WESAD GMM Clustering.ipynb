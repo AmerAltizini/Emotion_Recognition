{
 "cells": [
  {
   "cell_type": "markdown",
   "id": "42b28441",
   "metadata": {},
   "source": [
    "# GMM Algorithm"
   ]
  },
  {
   "cell_type": "markdown",
   "id": "8656f05d",
   "metadata": {},
   "source": [
    "## Importing Libraries"
   ]
  },
  {
   "cell_type": "code",
   "execution_count": 1,
   "id": "6d24cdc5",
   "metadata": {},
   "outputs": [],
   "source": [
    "import numpy as np\n",
    "import matplotlib.pyplot as plt\n",
    "import pandas as pd\n",
    "import pickle"
   ]
  },
  {
   "cell_type": "markdown",
   "id": "eb74bafa",
   "metadata": {},
   "source": [
    "## Read Dataset (PKL type)"
   ]
  },
  {
   "cell_type": "code",
   "execution_count": 2,
   "id": "9a6c724f",
   "metadata": {},
   "outputs": [],
   "source": [
    "with open('S5.pkl', 'rb') as file:\n",
    "    s2_data = pickle.load(file, encoding='latin1')"
   ]
  },
  {
   "cell_type": "code",
   "execution_count": 3,
   "id": "61f156c7",
   "metadata": {},
   "outputs": [
    {
     "data": {
      "text/plain": [
       "dict_keys(['signal', 'label', 'subject'])"
      ]
     },
     "execution_count": 3,
     "metadata": {},
     "output_type": "execute_result"
    }
   ],
   "source": [
    "s2_data.keys()"
   ]
  },
  {
   "cell_type": "code",
   "execution_count": 4,
   "id": "00c974c4",
   "metadata": {},
   "outputs": [],
   "source": [
    "c_ax=s2_data['signal']['chest']['ACC'][0:,0]\n",
    "c_ay=s2_data['signal']['chest']['ACC'][0:,1]\n",
    "c_az=s2_data['signal']['chest']['ACC'][0:,2]\n",
    "c_ecg=s2_data['signal']['chest']['ECG'][:,0]\n",
    "c_emg=s2_data['signal']['chest']['EMG'][:,0]\n",
    "c_eda=s2_data['signal']['chest']['EDA'][:,0]\n",
    "c_temp=s2_data['signal']['chest']['Temp'][:,0]\n",
    "c_resp=s2_data['signal']['chest']['Resp'][:,0]\n",
    "w_ax=s2_data['signal']['wrist']['ACC'][0:,0]\n",
    "w_ay=s2_data['signal']['wrist']['ACC'][0:,1]\n",
    "w_az=s2_data['signal']['wrist']['ACC'][0:,2]\n",
    "w_bvp=s2_data['signal']['wrist']['BVP'][:,0]\n",
    "w_eda=s2_data['signal']['wrist']['EDA'][:,0]\n",
    "w_temp=s2_data['signal']['wrist']['TEMP'][:,0]\n",
    "w_label=s2_data['label']"
   ]
  },
  {
   "cell_type": "code",
   "execution_count": 5,
   "id": "67cc13e7",
   "metadata": {},
   "outputs": [
    {
     "name": "stderr",
     "output_type": "stream",
     "text": [
      "<ipython-input-5-aabd8313c500>:3: VisibleDeprecationWarning: Creating an ndarray from ragged nested sequences (which is a list-or-tuple of lists-or-tuples-or ndarrays with different lengths or shapes) is deprecated. If you meant to do this, you must specify 'dtype=object' when creating the ndarray.\n",
      "  numpy_data2=np.array([w_ax, w_ay, w_az,w_bvp,w_eda,w_temp,w_label])\n"
     ]
    }
   ],
   "source": [
    "numpy_data1=np.array([c_ax, c_ay, c_az,c_ecg,c_emg,c_eda,c_temp,c_resp,w_label])\n",
    "numpy_data1=numpy_data1.T\n",
    "numpy_data2=np.array([w_ax, w_ay, w_az,w_bvp,w_eda,w_temp,w_label])\n",
    "numpy_data2=numpy_data2.T"
   ]
  },
  {
   "cell_type": "markdown",
   "id": "648cec61",
   "metadata": {},
   "source": [
    "## Converting pickle dictionary to Pandas Data frame"
   ]
  },
  {
   "cell_type": "code",
   "execution_count": 7,
   "id": "f9863805",
   "metadata": {},
   "outputs": [
    {
     "data": {
      "text/html": [
       "<div>\n",
       "<style scoped>\n",
       "    .dataframe tbody tr th:only-of-type {\n",
       "        vertical-align: middle;\n",
       "    }\n",
       "\n",
       "    .dataframe tbody tr th {\n",
       "        vertical-align: top;\n",
       "    }\n",
       "\n",
       "    .dataframe thead th {\n",
       "        text-align: right;\n",
       "    }\n",
       "</style>\n",
       "<table border=\"1\" class=\"dataframe\">\n",
       "  <thead>\n",
       "    <tr style=\"text-align: right;\">\n",
       "      <th></th>\n",
       "      <th>c_ax</th>\n",
       "      <th>c_ay</th>\n",
       "      <th>c_az</th>\n",
       "      <th>c_ecg</th>\n",
       "      <th>c_emg</th>\n",
       "      <th>c_eda</th>\n",
       "      <th>c_temp</th>\n",
       "      <th>c_resp</th>\n",
       "      <th>w_label</th>\n",
       "    </tr>\n",
       "  </thead>\n",
       "  <tbody>\n",
       "    <tr>\n",
       "      <th>0</th>\n",
       "      <td>0.8606</td>\n",
       "      <td>0.0742</td>\n",
       "      <td>0.8570</td>\n",
       "      <td>-0.275803</td>\n",
       "      <td>0.016800</td>\n",
       "      <td>3.888321</td>\n",
       "      <td>34.119934</td>\n",
       "      <td>0.044250</td>\n",
       "      <td>0.0</td>\n",
       "    </tr>\n",
       "    <tr>\n",
       "      <th>1</th>\n",
       "      <td>0.8456</td>\n",
       "      <td>0.0780</td>\n",
       "      <td>0.8574</td>\n",
       "      <td>-0.229752</td>\n",
       "      <td>0.014969</td>\n",
       "      <td>3.913116</td>\n",
       "      <td>34.142822</td>\n",
       "      <td>0.032043</td>\n",
       "      <td>0.0</td>\n",
       "    </tr>\n",
       "    <tr>\n",
       "      <th>2</th>\n",
       "      <td>0.8410</td>\n",
       "      <td>0.0874</td>\n",
       "      <td>0.7570</td>\n",
       "      <td>-0.195282</td>\n",
       "      <td>0.015335</td>\n",
       "      <td>3.873062</td>\n",
       "      <td>34.135193</td>\n",
       "      <td>0.015259</td>\n",
       "      <td>0.0</td>\n",
       "    </tr>\n",
       "    <tr>\n",
       "      <th>3</th>\n",
       "      <td>0.8418</td>\n",
       "      <td>0.0986</td>\n",
       "      <td>0.5782</td>\n",
       "      <td>-0.164474</td>\n",
       "      <td>-0.003708</td>\n",
       "      <td>3.883362</td>\n",
       "      <td>34.136749</td>\n",
       "      <td>-0.062561</td>\n",
       "      <td>0.0</td>\n",
       "    </tr>\n",
       "    <tr>\n",
       "      <th>4</th>\n",
       "      <td>0.8554</td>\n",
       "      <td>0.0984</td>\n",
       "      <td>0.3332</td>\n",
       "      <td>-0.134811</td>\n",
       "      <td>0.017624</td>\n",
       "      <td>3.886795</td>\n",
       "      <td>34.118439</td>\n",
       "      <td>0.016785</td>\n",
       "      <td>0.0</td>\n",
       "    </tr>\n",
       "  </tbody>\n",
       "</table>\n",
       "</div>"
      ],
      "text/plain": [
       "     c_ax    c_ay    c_az     c_ecg     c_emg     c_eda     c_temp    c_resp  \\\n",
       "0  0.8606  0.0742  0.8570 -0.275803  0.016800  3.888321  34.119934  0.044250   \n",
       "1  0.8456  0.0780  0.8574 -0.229752  0.014969  3.913116  34.142822  0.032043   \n",
       "2  0.8410  0.0874  0.7570 -0.195282  0.015335  3.873062  34.135193  0.015259   \n",
       "3  0.8418  0.0986  0.5782 -0.164474 -0.003708  3.883362  34.136749 -0.062561   \n",
       "4  0.8554  0.0984  0.3332 -0.134811  0.017624  3.886795  34.118439  0.016785   \n",
       "\n",
       "   w_label  \n",
       "0      0.0  \n",
       "1      0.0  \n",
       "2      0.0  \n",
       "3      0.0  \n",
       "4      0.0  "
      ]
     },
     "execution_count": 7,
     "metadata": {},
     "output_type": "execute_result"
    }
   ],
   "source": [
    "df1 = pd.DataFrame(data=numpy_data1, columns=[\"c_ax\", \"c_ay\", \"c_az\",\"c_ecg\",\"c_emg\",\"c_eda\",\"c_temp\",\"c_resp\",\"w_label\"]) \n",
    "# df1.to_csv('f1')\n",
    "df1.head()"
   ]
  },
  {
   "cell_type": "markdown",
   "id": "6e356f1b",
   "metadata": {},
   "source": [
    "# Drop irrelevant features"
   ]
  },
  {
   "cell_type": "code",
   "execution_count": 8,
   "id": "eba021c1",
   "metadata": {},
   "outputs": [
    {
     "data": {
      "text/html": [
       "<div>\n",
       "<style scoped>\n",
       "    .dataframe tbody tr th:only-of-type {\n",
       "        vertical-align: middle;\n",
       "    }\n",
       "\n",
       "    .dataframe tbody tr th {\n",
       "        vertical-align: top;\n",
       "    }\n",
       "\n",
       "    .dataframe thead th {\n",
       "        text-align: right;\n",
       "    }\n",
       "</style>\n",
       "<table border=\"1\" class=\"dataframe\">\n",
       "  <thead>\n",
       "    <tr style=\"text-align: right;\">\n",
       "      <th></th>\n",
       "      <th>c_ecg</th>\n",
       "      <th>c_emg</th>\n",
       "      <th>c_eda</th>\n",
       "      <th>c_temp</th>\n",
       "      <th>c_resp</th>\n",
       "      <th>w_label</th>\n",
       "    </tr>\n",
       "  </thead>\n",
       "  <tbody>\n",
       "    <tr>\n",
       "      <th>0</th>\n",
       "      <td>-0.275803</td>\n",
       "      <td>0.016800</td>\n",
       "      <td>3.888321</td>\n",
       "      <td>34.119934</td>\n",
       "      <td>0.044250</td>\n",
       "      <td>0.0</td>\n",
       "    </tr>\n",
       "    <tr>\n",
       "      <th>1</th>\n",
       "      <td>-0.229752</td>\n",
       "      <td>0.014969</td>\n",
       "      <td>3.913116</td>\n",
       "      <td>34.142822</td>\n",
       "      <td>0.032043</td>\n",
       "      <td>0.0</td>\n",
       "    </tr>\n",
       "    <tr>\n",
       "      <th>2</th>\n",
       "      <td>-0.195282</td>\n",
       "      <td>0.015335</td>\n",
       "      <td>3.873062</td>\n",
       "      <td>34.135193</td>\n",
       "      <td>0.015259</td>\n",
       "      <td>0.0</td>\n",
       "    </tr>\n",
       "    <tr>\n",
       "      <th>3</th>\n",
       "      <td>-0.164474</td>\n",
       "      <td>-0.003708</td>\n",
       "      <td>3.883362</td>\n",
       "      <td>34.136749</td>\n",
       "      <td>-0.062561</td>\n",
       "      <td>0.0</td>\n",
       "    </tr>\n",
       "    <tr>\n",
       "      <th>4</th>\n",
       "      <td>-0.134811</td>\n",
       "      <td>0.017624</td>\n",
       "      <td>3.886795</td>\n",
       "      <td>34.118439</td>\n",
       "      <td>0.016785</td>\n",
       "      <td>0.0</td>\n",
       "    </tr>\n",
       "    <tr>\n",
       "      <th>...</th>\n",
       "      <td>...</td>\n",
       "      <td>...</td>\n",
       "      <td>...</td>\n",
       "      <td>...</td>\n",
       "      <td>...</td>\n",
       "      <td>...</td>\n",
       "    </tr>\n",
       "    <tr>\n",
       "      <th>4380595</th>\n",
       "      <td>-0.008240</td>\n",
       "      <td>0.009293</td>\n",
       "      <td>10.231400</td>\n",
       "      <td>34.971069</td>\n",
       "      <td>7.070923</td>\n",
       "      <td>0.0</td>\n",
       "    </tr>\n",
       "    <tr>\n",
       "      <th>4380596</th>\n",
       "      <td>-0.000778</td>\n",
       "      <td>-0.004074</td>\n",
       "      <td>10.231018</td>\n",
       "      <td>34.900116</td>\n",
       "      <td>7.044983</td>\n",
       "      <td>0.0</td>\n",
       "    </tr>\n",
       "    <tr>\n",
       "      <th>4380597</th>\n",
       "      <td>0.014877</td>\n",
       "      <td>-0.013687</td>\n",
       "      <td>10.231018</td>\n",
       "      <td>34.949463</td>\n",
       "      <td>7.057190</td>\n",
       "      <td>0.0</td>\n",
       "    </tr>\n",
       "    <tr>\n",
       "      <th>4380598</th>\n",
       "      <td>0.029251</td>\n",
       "      <td>-0.001007</td>\n",
       "      <td>10.230637</td>\n",
       "      <td>34.971069</td>\n",
       "      <td>7.090759</td>\n",
       "      <td>0.0</td>\n",
       "    </tr>\n",
       "    <tr>\n",
       "      <th>4380599</th>\n",
       "      <td>0.038864</td>\n",
       "      <td>0.003479</td>\n",
       "      <td>10.230637</td>\n",
       "      <td>34.940247</td>\n",
       "      <td>7.075500</td>\n",
       "      <td>0.0</td>\n",
       "    </tr>\n",
       "  </tbody>\n",
       "</table>\n",
       "<p>4380600 rows × 6 columns</p>\n",
       "</div>"
      ],
      "text/plain": [
       "            c_ecg     c_emg      c_eda     c_temp    c_resp  w_label\n",
       "0       -0.275803  0.016800   3.888321  34.119934  0.044250      0.0\n",
       "1       -0.229752  0.014969   3.913116  34.142822  0.032043      0.0\n",
       "2       -0.195282  0.015335   3.873062  34.135193  0.015259      0.0\n",
       "3       -0.164474 -0.003708   3.883362  34.136749 -0.062561      0.0\n",
       "4       -0.134811  0.017624   3.886795  34.118439  0.016785      0.0\n",
       "...           ...       ...        ...        ...       ...      ...\n",
       "4380595 -0.008240  0.009293  10.231400  34.971069  7.070923      0.0\n",
       "4380596 -0.000778 -0.004074  10.231018  34.900116  7.044983      0.0\n",
       "4380597  0.014877 -0.013687  10.231018  34.949463  7.057190      0.0\n",
       "4380598  0.029251 -0.001007  10.230637  34.971069  7.090759      0.0\n",
       "4380599  0.038864  0.003479  10.230637  34.940247  7.075500      0.0\n",
       "\n",
       "[4380600 rows x 6 columns]"
      ]
     },
     "execution_count": 8,
     "metadata": {},
     "output_type": "execute_result"
    }
   ],
   "source": [
    "df1.drop(['c_ax','c_ay','c_az'], axis=1, inplace=True)\n",
    "df1"
   ]
  },
  {
   "cell_type": "code",
   "execution_count": 9,
   "id": "0c219afd",
   "metadata": {},
   "outputs": [
    {
     "name": "stdout",
     "output_type": "stream",
     "text": [
      "shape (4380600, 6)\n",
      "4380600\n",
      "w_label 4380600\n"
     ]
    }
   ],
   "source": [
    "#data shape\n",
    "print(\"shape\",df1.shape)\n",
    "print(len(df1))\n",
    "print(\"w_label\",len(w_label))"
   ]
  },
  {
   "cell_type": "markdown",
   "id": "61c53ec7",
   "metadata": {},
   "source": [
    "## Visualizing dataset labels comparision"
   ]
  },
  {
   "cell_type": "code",
   "execution_count": 10,
   "id": "a0f62b90",
   "metadata": {},
   "outputs": [
    {
     "name": "stdout",
     "output_type": "stream",
     "text": [
      "baseline_indices 838600\n",
      "stress_indices 451500\n",
      "amusement_indices 261800\n",
      "meditation_indices 555800\n",
      "others_indices 2142700\n"
     ]
    },
    {
     "data": {
      "image/png": "[encoded data removed]",
      "text/plain": [
       "<Figure size 432x288 with 1 Axes>"
      ]
     },
     "metadata": {
      "needs_background": "light"
     },
     "output_type": "display_data"
    }
   ],
   "source": [
    "baseline_indices = np.nonzero(s2_data['label']==1)[0]\n",
    "stress_indices = np.nonzero(s2_data['label']==2)[0]\n",
    "amusement_indices = np.nonzero(s2_data['label']==3)[0]\n",
    "meditation_indices = np.nonzero(s2_data['label']==4)[0]\n",
    "others_indices = np.nonzero(s2_data['label']==0)[0]\n",
    "\n",
    "\n",
    "print(\"baseline_indices\", len(baseline_indices))\n",
    "print(\"stress_indices\", len(stress_indices))\n",
    "print(\"amusement_indices\", len(amusement_indices))\n",
    "print(\"meditation_indices\", len(meditation_indices))\n",
    "print(\"others_indices\", len(others_indices))\n",
    "\n",
    "fig = plt.figure()\n",
    "ax = fig.add_axes([1,1,2,2])\n",
    "langs = [\"baseline\", \"stress\", \"amusement\",\"meditation\", \"others_indices\"]\n",
    "y_ax = [len(baseline_indices),len(stress_indices),len(amusement_indices),len(meditation_indices),len(others_indices)]\n",
    "ax.bar(langs,y_ax,color = 'b', width = 0.45)\n",
    "fig.savefig('f1.png')\n",
    "plt.show()\n",
    "\n",
    "#talk about imbalanced data set"
   ]
  },
  {
   "cell_type": "markdown",
   "id": "1cfab470",
   "metadata": {},
   "source": [
    "## Data Shapes from Wrist and Chist sensors"
   ]
  },
  {
   "cell_type": "code",
   "execution_count": 11,
   "id": "54f6f78e",
   "metadata": {},
   "outputs": [
    {
     "name": "stdout",
     "output_type": "stream",
     "text": [
      "c_ax 4380600\n",
      "c_ay 4380600\n",
      "c_az 4380600\n",
      "c_ecg 4380600\n",
      "c_emg 4380600\n",
      "c_eda 4380600\n",
      "c_temp 4380600\n",
      "c_resp 4380600\n",
      "w_ax 200256\n",
      "w_ay 200256\n",
      "w_az 200256\n",
      "w_bvp 400512\n",
      "w_eda 25032\n",
      "w_temp 25032\n",
      "[0 0 0 ... 0 0 0] 4380600\n",
      "Min label value 0 Max label value 7\n"
     ]
    },
    {
     "data": {
      "image/png": "[encoded data removed]",
      "text/plain": [
       "<Figure size 432x288 with 1 Axes>"
      ]
     },
     "metadata": {
      "needs_background": "light"
     },
     "output_type": "display_data"
    },
    {
     "data": {
      "text/plain": [
       "<Figure size 432x288 with 0 Axes>"
      ]
     },
     "metadata": {},
     "output_type": "display_data"
    }
   ],
   "source": [
    "%matplotlib inline\n",
    "print(\"c_ax\",len(c_ax))\n",
    "print(\"c_ay\",len(c_ay))\n",
    "print(\"c_az\",len(c_az))\n",
    "print(\"c_ecg\",len(c_ecg))\n",
    "print(\"c_emg\",len(c_emg))\n",
    "print(\"c_eda\",len(c_eda))\n",
    "print(\"c_temp\",len(c_temp))\n",
    "print(\"c_resp\",len(c_resp))\n",
    "print(\"w_ax\",len(w_ax))\n",
    "print(\"w_ay\",len(w_ay))\n",
    "print(\"w_az\",len(w_az))\n",
    "print(\"w_bvp\",len(w_bvp))\n",
    "print(\"w_eda\",len(w_eda))\n",
    "print(\"w_temp\",len(w_temp))\n",
    "print(w_label, len(w_label))\n",
    "print(\"Min label value\", min(w_label), \"Max label value\",max(w_label))\n",
    "\n",
    "fig = plt.figure()\n",
    "ax = fig.add_axes([1,1,2,2])\n",
    "langs = [\"c_ax\", \"c_ay\", \"c_az\",\"c_ecg\",\"c_emg\",\"c_eda\",\"c_temp\",\"c_resp\",\"w_ax\",\"w_ay\",\"w_az\",\"w_bvp\",\"w_eda\",\"w_temp\",\"w_label\"]\n",
    "y_ax = [len(c_ax),len(c_ay),len(c_az),len(c_ecg),len(c_emg),len(c_eda),len(c_temp),len(c_resp),len(w_ax),len(w_ay),len(w_az),len(w_bvp),len(w_eda),len(w_temp),len(w_label)]\n",
    "ax.bar(langs,y_ax,color = 'c', width = 0.45)\n",
    "\n",
    "plt.show()\n",
    "plt.savefig('f2.png',dpi=100)\n",
    "#Since data samples from chest device are 21 times more than data samples of wrist device, thus data set is unbalanced,\n",
    "#and data from wrsit sensor should be excluded. Chest device gives 4255300 samples per sensor, whereas wrist device gives only 194528 samples. "
   ]
  },
  {
   "cell_type": "markdown",
   "id": "e4282b8d",
   "metadata": {},
   "source": [
    "## Data Distribution for Chest sensor"
   ]
  },
  {
   "cell_type": "code",
   "execution_count": 12,
   "id": "1325077c",
   "metadata": {},
   "outputs": [
    {
     "data": {
      "text/plain": [
       "array([[<AxesSubplot:title={'center':'c_ecg'}>,\n",
       "        <AxesSubplot:title={'center':'c_emg'}>],\n",
       "       [<AxesSubplot:title={'center':'c_eda'}>,\n",
       "        <AxesSubplot:title={'center':'c_temp'}>],\n",
       "       [<AxesSubplot:title={'center':'c_resp'}>,\n",
       "        <AxesSubplot:title={'center':'w_label'}>]], dtype=object)"
      ]
     },
     "execution_count": 12,
     "metadata": {},
     "output_type": "execute_result"
    },
    {
     "data": {
      "image/png": "[encoded data removed]",
      "text/plain": [
       "<Figure size 1440x1080 with 6 Axes>"
      ]
     },
     "metadata": {
      "needs_background": "light"
     },
     "output_type": "display_data"
    }
   ],
   "source": [
    "df1.hist(bins=100, figsize = (20,15))"
   ]
  },
  {
   "cell_type": "markdown",
   "id": "cc998dca",
   "metadata": {},
   "source": [
    "## Other way to see outliers within the feature"
   ]
  },
  {
   "cell_type": "code",
   "execution_count": 13,
   "id": "5f6246c8",
   "metadata": {},
   "outputs": [
    {
     "data": {
      "text/plain": [
       "<AxesSubplot:>"
      ]
     },
     "execution_count": 13,
     "metadata": {},
     "output_type": "execute_result"
    },
    {
     "data": {
      "image/png": "[encoded data removed]",
      "text/plain": [
       "<Figure size 432x288 with 1 Axes>"
      ]
     },
     "metadata": {
      "needs_background": "light"
     },
     "output_type": "display_data"
    }
   ],
   "source": [
    "import seaborn as sns\n",
    "import matplotlib\n",
    "\n",
    "# sns.boxplot(df1['c_ecg'])\n",
    "df1.boxplot(column=['c_ecg'])"
   ]
  },
  {
   "cell_type": "markdown",
   "id": "1f6d1f33",
   "metadata": {},
   "source": [
    "## Calculating IQR and Outliers"
   ]
  },
  {
   "cell_type": "code",
   "execution_count": 14,
   "id": "3bd63aa5",
   "metadata": {},
   "outputs": [
    {
     "name": "stdout",
     "output_type": "stream",
     "text": [
      "IQR is\n",
      " c_ecg      0.082535\n",
      "c_emg      0.013916\n",
      "c_eda      3.987122\n",
      "c_temp     0.304352\n",
      "c_resp     4.679871\n",
      "w_label    2.000000\n",
      "dtype: float64\n",
      "         c_ecg  c_emg  c_eda  c_temp  c_resp  w_label\n",
      "0         True  False  False   False   False    False\n",
      "1         True  False  False   False   False    False\n",
      "2         True  False  False   False   False    False\n",
      "3        False  False  False   False   False    False\n",
      "4        False  False  False   False   False    False\n",
      "...        ...    ...    ...     ...     ...      ...\n",
      "4380595  False  False  False   False   False    False\n",
      "4380596  False  False  False   False   False    False\n",
      "4380597  False  False  False   False   False    False\n",
      "4380598  False  False  False   False   False    False\n",
      "4380599  False  False  False   False   False    False\n",
      "\n",
      "[4380600 rows x 6 columns]\n",
      "(4380600, 6)\n"
     ]
    }
   ],
   "source": [
    "Q1 = df1.quantile(0.25)\n",
    "Q3 = df1.quantile(0.75)\n",
    "IQR = Q3 - Q1\n",
    "print(\"IQR is\\n\", IQR)\n",
    "print((df1 < (Q1 - 1.5 * IQR)) |(df1 > (Q3 + 1.5 * IQR)) )\n",
    "print(df1.shape)"
   ]
  },
  {
   "cell_type": "markdown",
   "id": "0f517c95",
   "metadata": {},
   "source": [
    "## Removing Outliers"
   ]
  },
  {
   "cell_type": "code",
   "execution_count": 15,
   "id": "f671fe32",
   "metadata": {},
   "outputs": [
    {
     "name": "stdout",
     "output_type": "stream",
     "text": [
      "(3433167, 6)\n"
     ]
    }
   ],
   "source": [
    "df_out = df1[~((df1 < (Q1 - 1.5 * IQR)) |(df1 > (Q3 + 1.5 * IQR))).any(axis=1)]\n",
    "print(df_out.shape)"
   ]
  },
  {
   "cell_type": "code",
   "execution_count": 16,
   "id": "491e8d23",
   "metadata": {},
   "outputs": [
    {
     "data": {
      "text/html": [
       "<div>\n",
       "<style scoped>\n",
       "    .dataframe tbody tr th:only-of-type {\n",
       "        vertical-align: middle;\n",
       "    }\n",
       "\n",
       "    .dataframe tbody tr th {\n",
       "        vertical-align: top;\n",
       "    }\n",
       "\n",
       "    .dataframe thead th {\n",
       "        text-align: right;\n",
       "    }\n",
       "</style>\n",
       "<table border=\"1\" class=\"dataframe\">\n",
       "  <thead>\n",
       "    <tr style=\"text-align: right;\">\n",
       "      <th></th>\n",
       "      <th>c_ecg</th>\n",
       "      <th>c_emg</th>\n",
       "      <th>c_eda</th>\n",
       "      <th>c_temp</th>\n",
       "      <th>c_resp</th>\n",
       "      <th>w_label</th>\n",
       "    </tr>\n",
       "  </thead>\n",
       "  <tbody>\n",
       "    <tr>\n",
       "      <th>3</th>\n",
       "      <td>-0.164474</td>\n",
       "      <td>-0.003708</td>\n",
       "      <td>3.883362</td>\n",
       "      <td>34.136749</td>\n",
       "      <td>-0.062561</td>\n",
       "      <td>0.0</td>\n",
       "    </tr>\n",
       "    <tr>\n",
       "      <th>4</th>\n",
       "      <td>-0.134811</td>\n",
       "      <td>0.017624</td>\n",
       "      <td>3.886795</td>\n",
       "      <td>34.118439</td>\n",
       "      <td>0.016785</td>\n",
       "      <td>0.0</td>\n",
       "    </tr>\n",
       "    <tr>\n",
       "      <th>6</th>\n",
       "      <td>-0.080841</td>\n",
       "      <td>0.016617</td>\n",
       "      <td>3.873444</td>\n",
       "      <td>34.129089</td>\n",
       "      <td>-0.001526</td>\n",
       "      <td>0.0</td>\n",
       "    </tr>\n",
       "    <tr>\n",
       "      <th>8</th>\n",
       "      <td>-0.052414</td>\n",
       "      <td>-0.001053</td>\n",
       "      <td>3.895569</td>\n",
       "      <td>34.151978</td>\n",
       "      <td>0.016785</td>\n",
       "      <td>0.0</td>\n",
       "    </tr>\n",
       "    <tr>\n",
       "      <th>9</th>\n",
       "      <td>-0.038864</td>\n",
       "      <td>0.003342</td>\n",
       "      <td>3.873444</td>\n",
       "      <td>34.118439</td>\n",
       "      <td>-0.015259</td>\n",
       "      <td>0.0</td>\n",
       "    </tr>\n",
       "    <tr>\n",
       "      <th>...</th>\n",
       "      <td>...</td>\n",
       "      <td>...</td>\n",
       "      <td>...</td>\n",
       "      <td>...</td>\n",
       "      <td>...</td>\n",
       "      <td>...</td>\n",
       "    </tr>\n",
       "    <tr>\n",
       "      <th>4380595</th>\n",
       "      <td>-0.008240</td>\n",
       "      <td>0.009293</td>\n",
       "      <td>10.231400</td>\n",
       "      <td>34.971069</td>\n",
       "      <td>7.070923</td>\n",
       "      <td>0.0</td>\n",
       "    </tr>\n",
       "    <tr>\n",
       "      <th>4380596</th>\n",
       "      <td>-0.000778</td>\n",
       "      <td>-0.004074</td>\n",
       "      <td>10.231018</td>\n",
       "      <td>34.900116</td>\n",
       "      <td>7.044983</td>\n",
       "      <td>0.0</td>\n",
       "    </tr>\n",
       "    <tr>\n",
       "      <th>4380597</th>\n",
       "      <td>0.014877</td>\n",
       "      <td>-0.013687</td>\n",
       "      <td>10.231018</td>\n",
       "      <td>34.949463</td>\n",
       "      <td>7.057190</td>\n",
       "      <td>0.0</td>\n",
       "    </tr>\n",
       "    <tr>\n",
       "      <th>4380598</th>\n",
       "      <td>0.029251</td>\n",
       "      <td>-0.001007</td>\n",
       "      <td>10.230637</td>\n",
       "      <td>34.971069</td>\n",
       "      <td>7.090759</td>\n",
       "      <td>0.0</td>\n",
       "    </tr>\n",
       "    <tr>\n",
       "      <th>4380599</th>\n",
       "      <td>0.038864</td>\n",
       "      <td>0.003479</td>\n",
       "      <td>10.230637</td>\n",
       "      <td>34.940247</td>\n",
       "      <td>7.075500</td>\n",
       "      <td>0.0</td>\n",
       "    </tr>\n",
       "  </tbody>\n",
       "</table>\n",
       "<p>3433167 rows × 6 columns</p>\n",
       "</div>"
      ],
      "text/plain": [
       "            c_ecg     c_emg      c_eda     c_temp    c_resp  w_label\n",
       "3       -0.164474 -0.003708   3.883362  34.136749 -0.062561      0.0\n",
       "4       -0.134811  0.017624   3.886795  34.118439  0.016785      0.0\n",
       "6       -0.080841  0.016617   3.873444  34.129089 -0.001526      0.0\n",
       "8       -0.052414 -0.001053   3.895569  34.151978  0.016785      0.0\n",
       "9       -0.038864  0.003342   3.873444  34.118439 -0.015259      0.0\n",
       "...           ...       ...        ...        ...       ...      ...\n",
       "4380595 -0.008240  0.009293  10.231400  34.971069  7.070923      0.0\n",
       "4380596 -0.000778 -0.004074  10.231018  34.900116  7.044983      0.0\n",
       "4380597  0.014877 -0.013687  10.231018  34.949463  7.057190      0.0\n",
       "4380598  0.029251 -0.001007  10.230637  34.971069  7.090759      0.0\n",
       "4380599  0.038864  0.003479  10.230637  34.940247  7.075500      0.0\n",
       "\n",
       "[3433167 rows x 6 columns]"
      ]
     },
     "execution_count": 16,
     "metadata": {},
     "output_type": "execute_result"
    }
   ],
   "source": [
    "df_out"
   ]
  },
  {
   "cell_type": "markdown",
   "id": "753d38cb",
   "metadata": {},
   "source": [
    "## Distribution of the Data after removing the outliers"
   ]
  },
  {
   "cell_type": "code",
   "execution_count": 17,
   "id": "23076b0a",
   "metadata": {},
   "outputs": [
    {
     "data": {
      "text/plain": [
       "array([[<AxesSubplot:title={'center':'c_ecg'}>,\n",
       "        <AxesSubplot:title={'center':'c_emg'}>],\n",
       "       [<AxesSubplot:title={'center':'c_eda'}>,\n",
       "        <AxesSubplot:title={'center':'c_temp'}>],\n",
       "       [<AxesSubplot:title={'center':'c_resp'}>,\n",
       "        <AxesSubplot:title={'center':'w_label'}>]], dtype=object)"
      ]
     },
     "execution_count": 17,
     "metadata": {},
     "output_type": "execute_result"
    },
    {
     "data": {
      "image/png": "[encoded data removed]",
      "text/plain": [
       "<Figure size 1440x1080 with 6 Axes>"
      ]
     },
     "metadata": {
      "needs_background": "light"
     },
     "output_type": "display_data"
    }
   ],
   "source": [
    "df_out.hist(bins=100, figsize = (20,15))"
   ]
  },
  {
   "cell_type": "code",
   "execution_count": 18,
   "id": "2fc20d3d",
   "metadata": {},
   "outputs": [
    {
     "name": "stderr",
     "output_type": "stream",
     "text": [
      "C:\\ProgramData\\Anaconda3\\lib\\site-packages\\seaborn\\_decorators.py:36: FutureWarning: Pass the following variable as a keyword arg: x. From version 0.12, the only valid positional argument will be `data`, and passing other arguments without an explicit keyword will result in an error or misinterpretation.\n",
      "  warnings.warn(\n"
     ]
    },
    {
     "data": {
      "text/plain": [
       "<AxesSubplot:xlabel='c_ecg'>"
      ]
     },
     "execution_count": 18,
     "metadata": {},
     "output_type": "execute_result"
    },
    {
     "data": {
      "image/png": "[encoded data removed]",
      "text/plain": [
       "<Figure size 432x288 with 1 Axes>"
      ]
     },
     "metadata": {
      "needs_background": "light"
     },
     "output_type": "display_data"
    }
   ],
   "source": [
    "df_out.boxplot(column=['c_ecg'])\n",
    "\n",
    "sns.boxplot(df1['c_ecg'])"
   ]
  },
  {
   "cell_type": "code",
   "execution_count": 19,
   "id": "b5f922ce",
   "metadata": {},
   "outputs": [
    {
     "data": {
      "text/html": [
       "<div>\n",
       "<style scoped>\n",
       "    .dataframe tbody tr th:only-of-type {\n",
       "        vertical-align: middle;\n",
       "    }\n",
       "\n",
       "    .dataframe tbody tr th {\n",
       "        vertical-align: top;\n",
       "    }\n",
       "\n",
       "    .dataframe thead th {\n",
       "        text-align: right;\n",
       "    }\n",
       "</style>\n",
       "<table border=\"1\" class=\"dataframe\">\n",
       "  <thead>\n",
       "    <tr style=\"text-align: right;\">\n",
       "      <th></th>\n",
       "      <th>c_ecg</th>\n",
       "      <th>c_emg</th>\n",
       "      <th>c_eda</th>\n",
       "      <th>c_temp</th>\n",
       "      <th>c_resp</th>\n",
       "      <th>w_label</th>\n",
       "    </tr>\n",
       "  </thead>\n",
       "  <tbody>\n",
       "    <tr>\n",
       "      <th>count</th>\n",
       "      <td>3.433167e+06</td>\n",
       "      <td>3.433167e+06</td>\n",
       "      <td>3.433167e+06</td>\n",
       "      <td>3.433167e+06</td>\n",
       "      <td>3.433167e+06</td>\n",
       "      <td>3.433167e+06</td>\n",
       "    </tr>\n",
       "    <tr>\n",
       "      <th>mean</th>\n",
       "      <td>-2.436884e-02</td>\n",
       "      <td>-3.419480e-03</td>\n",
       "      <td>7.115339e+00</td>\n",
       "      <td>3.471908e+01</td>\n",
       "      <td>-6.240179e-02</td>\n",
       "      <td>1.254874e+00</td>\n",
       "    </tr>\n",
       "    <tr>\n",
       "      <th>std</th>\n",
       "      <td>6.041449e-02</td>\n",
       "      <td>9.906808e-03</td>\n",
       "      <td>2.299828e+00</td>\n",
       "      <td>2.070564e-01</td>\n",
       "      <td>3.233585e+00</td>\n",
       "      <td>1.507140e+00</td>\n",
       "    </tr>\n",
       "    <tr>\n",
       "      <th>min</th>\n",
       "      <td>-1.884155e-01</td>\n",
       "      <td>-3.126526e-02</td>\n",
       "      <td>3.402710e+00</td>\n",
       "      <td>3.411234e+01</td>\n",
       "      <td>-9.304810e+00</td>\n",
       "      <td>0.000000e+00</td>\n",
       "    </tr>\n",
       "    <tr>\n",
       "      <th>25%</th>\n",
       "      <td>-5.987549e-02</td>\n",
       "      <td>-9.567261e-03</td>\n",
       "      <td>5.328751e+00</td>\n",
       "      <td>3.460175e+01</td>\n",
       "      <td>-2.137756e+00</td>\n",
       "      <td>0.000000e+00</td>\n",
       "    </tr>\n",
       "    <tr>\n",
       "      <th>50%</th>\n",
       "      <td>-2.723694e-02</td>\n",
       "      <td>-3.158569e-03</td>\n",
       "      <td>7.014847e+00</td>\n",
       "      <td>3.476154e+01</td>\n",
       "      <td>-4.821777e-01</td>\n",
       "      <td>1.000000e+00</td>\n",
       "    </tr>\n",
       "    <tr>\n",
       "      <th>75%</th>\n",
       "      <td>4.531860e-03</td>\n",
       "      <td>2.746582e-03</td>\n",
       "      <td>9.276962e+00</td>\n",
       "      <td>3.487238e+01</td>\n",
       "      <td>2.142334e+00</td>\n",
       "      <td>2.000000e+00</td>\n",
       "    </tr>\n",
       "    <tr>\n",
       "      <th>max</th>\n",
       "      <td>1.416779e-01</td>\n",
       "      <td>2.439880e-02</td>\n",
       "      <td>1.271019e+01</td>\n",
       "      <td>3.532837e+01</td>\n",
       "      <td>9.413147e+00</td>\n",
       "      <td>5.000000e+00</td>\n",
       "    </tr>\n",
       "  </tbody>\n",
       "</table>\n",
       "</div>"
      ],
      "text/plain": [
       "              c_ecg         c_emg         c_eda        c_temp        c_resp  \\\n",
       "count  3.433167e+06  3.433167e+06  3.433167e+06  3.433167e+06  3.433167e+06   \n",
       "mean  -2.436884e-02 -3.419480e-03  7.115339e+00  3.471908e+01 -6.240179e-02   \n",
       "std    6.041449e-02  9.906808e-03  2.299828e+00  2.070564e-01  3.233585e+00   \n",
       "min   -1.884155e-01 -3.126526e-02  3.402710e+00  3.411234e+01 -9.304810e+00   \n",
       "25%   -5.987549e-02 -9.567261e-03  5.328751e+00  3.460175e+01 -2.137756e+00   \n",
       "50%   -2.723694e-02 -3.158569e-03  7.014847e+00  3.476154e+01 -4.821777e-01   \n",
       "75%    4.531860e-03  2.746582e-03  9.276962e+00  3.487238e+01  2.142334e+00   \n",
       "max    1.416779e-01  2.439880e-02  1.271019e+01  3.532837e+01  9.413147e+00   \n",
       "\n",
       "            w_label  \n",
       "count  3.433167e+06  \n",
       "mean   1.254874e+00  \n",
       "std    1.507140e+00  \n",
       "min    0.000000e+00  \n",
       "25%    0.000000e+00  \n",
       "50%    1.000000e+00  \n",
       "75%    2.000000e+00  \n",
       "max    5.000000e+00  "
      ]
     },
     "execution_count": 19,
     "metadata": {},
     "output_type": "execute_result"
    }
   ],
   "source": [
    "(df_out.describe())"
   ]
  },
  {
   "cell_type": "code",
   "execution_count": 20,
   "id": "0371510e",
   "metadata": {},
   "outputs": [
    {
     "name": "stderr",
     "output_type": "stream",
     "text": [
      "C:\\ProgramData\\Anaconda3\\lib\\site-packages\\pandas\\core\\frame.py:4308: SettingWithCopyWarning: \n",
      "A value is trying to be set on a copy of a slice from a DataFrame\n",
      "\n",
      "See the caveats in the documentation: https://pandas.pydata.org/pandas-docs/stable/user_guide/indexing.html#returning-a-view-versus-a-copy\n",
      "  return super().drop(\n"
     ]
    },
    {
     "data": {
      "text/html": [
       "<div>\n",
       "<style scoped>\n",
       "    .dataframe tbody tr th:only-of-type {\n",
       "        vertical-align: middle;\n",
       "    }\n",
       "\n",
       "    .dataframe tbody tr th {\n",
       "        vertical-align: top;\n",
       "    }\n",
       "\n",
       "    .dataframe thead th {\n",
       "        text-align: right;\n",
       "    }\n",
       "</style>\n",
       "<table border=\"1\" class=\"dataframe\">\n",
       "  <thead>\n",
       "    <tr style=\"text-align: right;\">\n",
       "      <th></th>\n",
       "      <th>Labels</th>\n",
       "      <th>c_ecg</th>\n",
       "      <th>c_emg</th>\n",
       "      <th>c_eda</th>\n",
       "      <th>c_temp</th>\n",
       "      <th>c_resp</th>\n",
       "    </tr>\n",
       "  </thead>\n",
       "  <tbody>\n",
       "    <tr>\n",
       "      <th>0</th>\n",
       "      <td>transient</td>\n",
       "      <td>-0.275803</td>\n",
       "      <td>0.016800</td>\n",
       "      <td>3.888321</td>\n",
       "      <td>34.119934</td>\n",
       "      <td>0.044250</td>\n",
       "    </tr>\n",
       "    <tr>\n",
       "      <th>1</th>\n",
       "      <td>transient</td>\n",
       "      <td>-0.229752</td>\n",
       "      <td>0.014969</td>\n",
       "      <td>3.913116</td>\n",
       "      <td>34.142822</td>\n",
       "      <td>0.032043</td>\n",
       "    </tr>\n",
       "    <tr>\n",
       "      <th>2</th>\n",
       "      <td>transient</td>\n",
       "      <td>-0.195282</td>\n",
       "      <td>0.015335</td>\n",
       "      <td>3.873062</td>\n",
       "      <td>34.135193</td>\n",
       "      <td>0.015259</td>\n",
       "    </tr>\n",
       "    <tr>\n",
       "      <th>3</th>\n",
       "      <td>transient</td>\n",
       "      <td>-0.164474</td>\n",
       "      <td>-0.003708</td>\n",
       "      <td>3.883362</td>\n",
       "      <td>34.136749</td>\n",
       "      <td>-0.062561</td>\n",
       "    </tr>\n",
       "    <tr>\n",
       "      <th>4</th>\n",
       "      <td>transient</td>\n",
       "      <td>-0.134811</td>\n",
       "      <td>0.017624</td>\n",
       "      <td>3.886795</td>\n",
       "      <td>34.118439</td>\n",
       "      <td>0.016785</td>\n",
       "    </tr>\n",
       "    <tr>\n",
       "      <th>...</th>\n",
       "      <td>...</td>\n",
       "      <td>...</td>\n",
       "      <td>...</td>\n",
       "      <td>...</td>\n",
       "      <td>...</td>\n",
       "      <td>...</td>\n",
       "    </tr>\n",
       "    <tr>\n",
       "      <th>4380595</th>\n",
       "      <td>transient</td>\n",
       "      <td>-0.008240</td>\n",
       "      <td>0.009293</td>\n",
       "      <td>10.231400</td>\n",
       "      <td>34.971069</td>\n",
       "      <td>7.070923</td>\n",
       "    </tr>\n",
       "    <tr>\n",
       "      <th>4380596</th>\n",
       "      <td>transient</td>\n",
       "      <td>-0.000778</td>\n",
       "      <td>-0.004074</td>\n",
       "      <td>10.231018</td>\n",
       "      <td>34.900116</td>\n",
       "      <td>7.044983</td>\n",
       "    </tr>\n",
       "    <tr>\n",
       "      <th>4380597</th>\n",
       "      <td>transient</td>\n",
       "      <td>0.014877</td>\n",
       "      <td>-0.013687</td>\n",
       "      <td>10.231018</td>\n",
       "      <td>34.949463</td>\n",
       "      <td>7.057190</td>\n",
       "    </tr>\n",
       "    <tr>\n",
       "      <th>4380598</th>\n",
       "      <td>transient</td>\n",
       "      <td>0.029251</td>\n",
       "      <td>-0.001007</td>\n",
       "      <td>10.230637</td>\n",
       "      <td>34.971069</td>\n",
       "      <td>7.090759</td>\n",
       "    </tr>\n",
       "    <tr>\n",
       "      <th>4380599</th>\n",
       "      <td>transient</td>\n",
       "      <td>0.038864</td>\n",
       "      <td>0.003479</td>\n",
       "      <td>10.230637</td>\n",
       "      <td>34.940247</td>\n",
       "      <td>7.075500</td>\n",
       "    </tr>\n",
       "  </tbody>\n",
       "</table>\n",
       "<p>4380600 rows × 6 columns</p>\n",
       "</div>"
      ],
      "text/plain": [
       "            Labels     c_ecg     c_emg      c_eda     c_temp    c_resp\n",
       "0        transient -0.275803  0.016800   3.888321  34.119934  0.044250\n",
       "1        transient -0.229752  0.014969   3.913116  34.142822  0.032043\n",
       "2        transient -0.195282  0.015335   3.873062  34.135193  0.015259\n",
       "3        transient -0.164474 -0.003708   3.883362  34.136749 -0.062561\n",
       "4        transient -0.134811  0.017624   3.886795  34.118439  0.016785\n",
       "...            ...       ...       ...        ...        ...       ...\n",
       "4380595  transient -0.008240  0.009293  10.231400  34.971069  7.070923\n",
       "4380596  transient -0.000778 -0.004074  10.231018  34.900116  7.044983\n",
       "4380597  transient  0.014877 -0.013687  10.231018  34.949463  7.057190\n",
       "4380598  transient  0.029251 -0.001007  10.230637  34.971069  7.090759\n",
       "4380599  transient  0.038864  0.003479  10.230637  34.940247  7.075500\n",
       "\n",
       "[4380600 rows x 6 columns]"
      ]
     },
     "execution_count": 20,
     "metadata": {},
     "output_type": "execute_result"
    }
   ],
   "source": [
    "def converter(w_label):\n",
    "    if w_label==0:\n",
    "        return 'transient'\n",
    "    elif w_label==1:\n",
    "        return 'baseline'\n",
    "    elif w_label==2:\n",
    "        return 'stress'\n",
    "    elif w_label==3:\n",
    "        return 'amusement'\n",
    "    elif w_label==4:\n",
    "        return 'meditation'   \n",
    "    else:\n",
    "        return 'ignored'\n",
    "\n",
    "df1['Labels'] = df1['w_label'].apply(converter)\n",
    "cols = df1.columns.tolist()\n",
    "cols = cols[-1:] + cols[:-1]\n",
    "Labeled_Data = df1[cols]\n",
    "Labeled_Data.drop(['w_label'], axis=1, inplace=True)\n",
    "Labeled_Data"
   ]
  },
  {
   "cell_type": "markdown",
   "id": "64ae2df0",
   "metadata": {},
   "source": [
    "## Deleting rows for meditation, transient and ignored"
   ]
  },
  {
   "cell_type": "code",
   "execution_count": 21,
   "id": "13d1f15b",
   "metadata": {},
   "outputs": [
    {
     "name": "stderr",
     "output_type": "stream",
     "text": [
      "C:\\ProgramData\\Anaconda3\\lib\\site-packages\\pandas\\core\\frame.py:4308: SettingWithCopyWarning: \n",
      "A value is trying to be set on a copy of a slice from a DataFrame\n",
      "\n",
      "See the caveats in the documentation: https://pandas.pydata.org/pandas-docs/stable/user_guide/indexing.html#returning-a-view-versus-a-copy\n",
      "  return super().drop(\n"
     ]
    },
    {
     "data": {
      "text/plain": [
       "(1551900, 6)"
      ]
     },
     "execution_count": 21,
     "metadata": {},
     "output_type": "execute_result"
    }
   ],
   "source": [
    "filter1 = Labeled_Data['Labels'] == 'meditation'\n",
    "Labeled_Data.drop(index=Labeled_Data[filter1].index, inplace = True)\n",
    "filter2 = Labeled_Data['Labels'] == 'ignored'\n",
    "Labeled_Data.drop(index=Labeled_Data[filter2].index, inplace = True)\n",
    "filter3 = Labeled_Data['Labels'] == 'transient'\n",
    "Labeled_Data.drop(index=Labeled_Data[filter3].index, inplace = True)\n",
    "Labeled_Data.shape\n",
    "\n",
    "# dfz = df_out[df_out.w_label != 0]\n",
    "# dfz = df_out[df_out.w_label != 4]\n",
    "# dfz = df_out[df_out.w_label != 5]\n",
    "#define list of values\n",
    "# values = [0, 4, 5]\n",
    "\n",
    "#drop any rows that have 7 or 11 in the rebounds column\n",
    "# df5 = df_out[df_out.w_label.isin(values) == False]\n",
    "# df5.shape"
   ]
  },
  {
   "cell_type": "markdown",
   "id": "7cac2453",
   "metadata": {},
   "source": [
    "## Line plot"
   ]
  },
  {
   "cell_type": "code",
   "execution_count": 22,
   "id": "5a46e8e5",
   "metadata": {},
   "outputs": [
    {
     "data": {
      "text/plain": [
       "Text(0, 0.5, 'sensor amplitude')"
      ]
     },
     "execution_count": 22,
     "metadata": {},
     "output_type": "execute_result"
    },
    {
     "data": {
      "image/png": "[encoded data removed]",
      "text/plain": [
       "<Figure size 432x216 with 1 Axes>"
      ]
     },
     "metadata": {
      "needs_background": "light"
     },
     "output_type": "display_data"
    }
   ],
   "source": [
    "lens=np.arange(len(df_out['c_ecg'][:500]))\n",
    "\n",
    "fig= plt.figure(figsize=(6,3))\n",
    "axes= fig.add_axes([0.1,0.1,2,2])\n",
    "\n",
    "axes.plot(df_out['c_ecg'][:9000],color='violet', label=\"c_ecg\")\n",
    "axes.plot(df_out['c_emg'][:9000],color='salmon', label=\"c_emg\")\n",
    "axes.plot(df_out['c_eda'][:9000],color='grey', label=\"c_eda\")\n",
    "axes.plot(df_out['c_temp'][:9000],color='lime', label=\"c_temp\")\n",
    "axes.plot(df_out['c_resp'][:9000],color='indigo', label=\"c_resp\")\n",
    "\n",
    "plt.legend(loc='upper left')\n",
    "plt.xlabel(\"Number of samples\")\n",
    "plt.ylabel(\"sensor amplitude\")"
   ]
  },
  {
   "cell_type": "code",
   "execution_count": 23,
   "id": "da03cc4d",
   "metadata": {},
   "outputs": [
    {
     "data": {
      "text/plain": [
       "array([[<AxesSubplot:title={'center':'c_ecg'}>,\n",
       "        <AxesSubplot:title={'center':'c_emg'}>],\n",
       "       [<AxesSubplot:title={'center':'c_eda'}>,\n",
       "        <AxesSubplot:title={'center':'c_temp'}>],\n",
       "       [<AxesSubplot:title={'center':'c_resp'}>, <AxesSubplot:>]],\n",
       "      dtype=object)"
      ]
     },
     "execution_count": 23,
     "metadata": {},
     "output_type": "execute_result"
    },
    {
     "data": {
      "image/png": "[encoded data removed]",
      "text/plain": [
       "<Figure size 1440x1080 with 6 Axes>"
      ]
     },
     "metadata": {
      "needs_background": "light"
     },
     "output_type": "display_data"
    }
   ],
   "source": [
    "Labeled_Data.hist(bins=100, figsize = (20,15))"
   ]
  },
  {
   "cell_type": "code",
   "execution_count": 24,
   "id": "d6a1170b",
   "metadata": {},
   "outputs": [],
   "source": [
    "# df_out.to_csv('fx')"
   ]
  },
  {
   "cell_type": "markdown",
   "id": "1c56cf27",
   "metadata": {},
   "source": [
    "## Data Segmentation (Sliding Window)"
   ]
  },
  {
   "cell_type": "code",
   "execution_count": 25,
   "id": "48cbe661",
   "metadata": {},
   "outputs": [
    {
     "data": {
      "text/html": [
       "<div>\n",
       "<style scoped>\n",
       "    .dataframe tbody tr th:only-of-type {\n",
       "        vertical-align: middle;\n",
       "    }\n",
       "\n",
       "    .dataframe tbody tr th {\n",
       "        vertical-align: top;\n",
       "    }\n",
       "\n",
       "    .dataframe thead th {\n",
       "        text-align: right;\n",
       "    }\n",
       "</style>\n",
       "<table border=\"1\" class=\"dataframe\">\n",
       "  <thead>\n",
       "    <tr style=\"text-align: right;\">\n",
       "      <th></th>\n",
       "      <th>Labels</th>\n",
       "      <th>c_ecg</th>\n",
       "      <th>c_emg</th>\n",
       "      <th>c_eda</th>\n",
       "      <th>c_temp</th>\n",
       "      <th>c_resp</th>\n",
       "    </tr>\n",
       "  </thead>\n",
       "  <tbody>\n",
       "    <tr>\n",
       "      <th>195560</th>\n",
       "      <td>baseline</td>\n",
       "      <td>-0.028976</td>\n",
       "      <td>-0.007828</td>\n",
       "      <td>6.387711</td>\n",
       "      <td>34.251160</td>\n",
       "      <td>2.789307</td>\n",
       "    </tr>\n",
       "    <tr>\n",
       "      <th>195561</th>\n",
       "      <td>baseline</td>\n",
       "      <td>-0.029114</td>\n",
       "      <td>-0.003296</td>\n",
       "      <td>6.384277</td>\n",
       "      <td>34.252716</td>\n",
       "      <td>2.891541</td>\n",
       "    </tr>\n",
       "    <tr>\n",
       "      <th>195562</th>\n",
       "      <td>baseline</td>\n",
       "      <td>-0.030212</td>\n",
       "      <td>-0.005264</td>\n",
       "      <td>6.398392</td>\n",
       "      <td>34.249634</td>\n",
       "      <td>2.861023</td>\n",
       "    </tr>\n",
       "    <tr>\n",
       "      <th>195563</th>\n",
       "      <td>baseline</td>\n",
       "      <td>-0.030991</td>\n",
       "      <td>-0.003159</td>\n",
       "      <td>6.392288</td>\n",
       "      <td>34.298553</td>\n",
       "      <td>2.833557</td>\n",
       "    </tr>\n",
       "    <tr>\n",
       "      <th>195564</th>\n",
       "      <td>baseline</td>\n",
       "      <td>-0.031906</td>\n",
       "      <td>-0.001968</td>\n",
       "      <td>6.385803</td>\n",
       "      <td>34.326050</td>\n",
       "      <td>2.857971</td>\n",
       "    </tr>\n",
       "  </tbody>\n",
       "</table>\n",
       "</div>"
      ],
      "text/plain": [
       "          Labels     c_ecg     c_emg     c_eda     c_temp    c_resp\n",
       "195560  baseline -0.028976 -0.007828  6.387711  34.251160  2.789307\n",
       "195561  baseline -0.029114 -0.003296  6.384277  34.252716  2.891541\n",
       "195562  baseline -0.030212 -0.005264  6.398392  34.249634  2.861023\n",
       "195563  baseline -0.030991 -0.003159  6.392288  34.298553  2.833557\n",
       "195564  baseline -0.031906 -0.001968  6.385803  34.326050  2.857971"
      ]
     },
     "execution_count": 25,
     "metadata": {},
     "output_type": "execute_result"
    }
   ],
   "source": [
    "#sliding window and feature extraction\n",
    "\n",
    "X=Labeled_Data.iloc[:,1:]\n",
    "X_mean=X.rolling(60).mean()\n",
    "X_std=X.rolling(60).std()\n",
    "Labeled_Data.head()"
   ]
  },
  {
   "cell_type": "markdown",
   "id": "b77c1920",
   "metadata": {},
   "source": [
    "## Feature Extraction"
   ]
  },
  {
   "cell_type": "code",
   "execution_count": 26,
   "id": "12bb5019",
   "metadata": {},
   "outputs": [
    {
     "data": {
      "text/html": [
       "<div>\n",
       "<style scoped>\n",
       "    .dataframe tbody tr th:only-of-type {\n",
       "        vertical-align: middle;\n",
       "    }\n",
       "\n",
       "    .dataframe tbody tr th {\n",
       "        vertical-align: top;\n",
       "    }\n",
       "\n",
       "    .dataframe thead tr th {\n",
       "        text-align: left;\n",
       "    }\n",
       "</style>\n",
       "<table border=\"1\" class=\"dataframe\">\n",
       "  <thead>\n",
       "    <tr>\n",
       "      <th></th>\n",
       "      <th></th>\n",
       "      <th colspan=\"5\" halign=\"left\">Mean</th>\n",
       "      <th colspan=\"5\" halign=\"left\">SD</th>\n",
       "    </tr>\n",
       "    <tr>\n",
       "      <th></th>\n",
       "      <th>Labels</th>\n",
       "      <th>c_ecg</th>\n",
       "      <th>c_emg</th>\n",
       "      <th>c_eda</th>\n",
       "      <th>c_temp</th>\n",
       "      <th>c_resp</th>\n",
       "      <th>c_ecg</th>\n",
       "      <th>c_emg</th>\n",
       "      <th>c_eda</th>\n",
       "      <th>c_temp</th>\n",
       "      <th>c_resp</th>\n",
       "    </tr>\n",
       "  </thead>\n",
       "  <tbody>\n",
       "    <tr>\n",
       "      <th>195619</th>\n",
       "      <td>baseline</td>\n",
       "      <td>-0.027024</td>\n",
       "      <td>-0.003218</td>\n",
       "      <td>6.388919</td>\n",
       "      <td>34.303582</td>\n",
       "      <td>2.700272</td>\n",
       "      <td>0.002090</td>\n",
       "      <td>0.009186</td>\n",
       "      <td>0.004977</td>\n",
       "      <td>0.027934</td>\n",
       "      <td>0.095312</td>\n",
       "    </tr>\n",
       "    <tr>\n",
       "      <th>195649</th>\n",
       "      <td>baseline</td>\n",
       "      <td>-0.023534</td>\n",
       "      <td>-0.003931</td>\n",
       "      <td>6.387952</td>\n",
       "      <td>34.307532</td>\n",
       "      <td>2.521617</td>\n",
       "      <td>0.003374</td>\n",
       "      <td>0.009201</td>\n",
       "      <td>0.005119</td>\n",
       "      <td>0.028906</td>\n",
       "      <td>0.159922</td>\n",
       "    </tr>\n",
       "    <tr>\n",
       "      <th>195679</th>\n",
       "      <td>baseline</td>\n",
       "      <td>-0.016402</td>\n",
       "      <td>-0.003580</td>\n",
       "      <td>6.387107</td>\n",
       "      <td>34.309391</td>\n",
       "      <td>2.371674</td>\n",
       "      <td>0.005158</td>\n",
       "      <td>0.008784</td>\n",
       "      <td>0.004710</td>\n",
       "      <td>0.029605</td>\n",
       "      <td>0.139286</td>\n",
       "    </tr>\n",
       "    <tr>\n",
       "      <th>195709</th>\n",
       "      <td>baseline</td>\n",
       "      <td>-0.008920</td>\n",
       "      <td>-0.003699</td>\n",
       "      <td>6.389033</td>\n",
       "      <td>34.304063</td>\n",
       "      <td>2.262014</td>\n",
       "      <td>0.003464</td>\n",
       "      <td>0.009975</td>\n",
       "      <td>0.016197</td>\n",
       "      <td>0.027818</td>\n",
       "      <td>0.078954</td>\n",
       "    </tr>\n",
       "    <tr>\n",
       "      <th>195739</th>\n",
       "      <td>baseline</td>\n",
       "      <td>-0.004292</td>\n",
       "      <td>-0.002934</td>\n",
       "      <td>6.388620</td>\n",
       "      <td>34.305512</td>\n",
       "      <td>2.130712</td>\n",
       "      <td>0.002624</td>\n",
       "      <td>0.010101</td>\n",
       "      <td>0.016235</td>\n",
       "      <td>0.025340</td>\n",
       "      <td>0.111984</td>\n",
       "    </tr>\n",
       "    <tr>\n",
       "      <th>...</th>\n",
       "      <td>...</td>\n",
       "      <td>...</td>\n",
       "      <td>...</td>\n",
       "      <td>...</td>\n",
       "      <td>...</td>\n",
       "      <td>...</td>\n",
       "      <td>...</td>\n",
       "      <td>...</td>\n",
       "      <td>...</td>\n",
       "      <td>...</td>\n",
       "      <td>...</td>\n",
       "    </tr>\n",
       "    <tr>\n",
       "      <th>2973039</th>\n",
       "      <td>stress</td>\n",
       "      <td>0.038158</td>\n",
       "      <td>-0.003989</td>\n",
       "      <td>9.712906</td>\n",
       "      <td>34.567273</td>\n",
       "      <td>-8.191961</td>\n",
       "      <td>0.022726</td>\n",
       "      <td>0.007219</td>\n",
       "      <td>0.008277</td>\n",
       "      <td>0.029617</td>\n",
       "      <td>0.042037</td>\n",
       "    </tr>\n",
       "    <tr>\n",
       "      <th>2973069</th>\n",
       "      <td>stress</td>\n",
       "      <td>0.045392</td>\n",
       "      <td>-0.003375</td>\n",
       "      <td>9.699841</td>\n",
       "      <td>34.571001</td>\n",
       "      <td>-8.113174</td>\n",
       "      <td>0.013353</td>\n",
       "      <td>0.012599</td>\n",
       "      <td>0.007354</td>\n",
       "      <td>0.026707</td>\n",
       "      <td>0.054113</td>\n",
       "    </tr>\n",
       "    <tr>\n",
       "      <th>2973099</th>\n",
       "      <td>stress</td>\n",
       "      <td>0.026302</td>\n",
       "      <td>-0.003867</td>\n",
       "      <td>9.686960</td>\n",
       "      <td>34.576087</td>\n",
       "      <td>-8.013713</td>\n",
       "      <td>0.013665</td>\n",
       "      <td>0.012488</td>\n",
       "      <td>0.008018</td>\n",
       "      <td>0.022012</td>\n",
       "      <td>0.065593</td>\n",
       "    </tr>\n",
       "    <tr>\n",
       "      <th>2973129</th>\n",
       "      <td>stress</td>\n",
       "      <td>0.042109</td>\n",
       "      <td>-0.003963</td>\n",
       "      <td>9.673011</td>\n",
       "      <td>34.574633</td>\n",
       "      <td>-7.891617</td>\n",
       "      <td>0.038115</td>\n",
       "      <td>0.006558</td>\n",
       "      <td>0.008379</td>\n",
       "      <td>0.023415</td>\n",
       "      <td>0.085728</td>\n",
       "    </tr>\n",
       "    <tr>\n",
       "      <th>2973159</th>\n",
       "      <td>stress</td>\n",
       "      <td>0.129523</td>\n",
       "      <td>-0.003361</td>\n",
       "      <td>9.657459</td>\n",
       "      <td>34.574915</td>\n",
       "      <td>-7.739944</td>\n",
       "      <td>0.076712</td>\n",
       "      <td>0.007398</td>\n",
       "      <td>0.009616</td>\n",
       "      <td>0.023273</td>\n",
       "      <td>0.102383</td>\n",
       "    </tr>\n",
       "  </tbody>\n",
       "</table>\n",
       "<p>51729 rows × 11 columns</p>\n",
       "</div>"
      ],
      "text/plain": [
       "                       Mean                                           \\\n",
       "           Labels     c_ecg     c_emg     c_eda     c_temp    c_resp   \n",
       "195619   baseline -0.027024 -0.003218  6.388919  34.303582  2.700272   \n",
       "195649   baseline -0.023534 -0.003931  6.387952  34.307532  2.521617   \n",
       "195679   baseline -0.016402 -0.003580  6.387107  34.309391  2.371674   \n",
       "195709   baseline -0.008920 -0.003699  6.389033  34.304063  2.262014   \n",
       "195739   baseline -0.004292 -0.002934  6.388620  34.305512  2.130712   \n",
       "...           ...       ...       ...       ...        ...       ...   \n",
       "2973039    stress  0.038158 -0.003989  9.712906  34.567273 -8.191961   \n",
       "2973069    stress  0.045392 -0.003375  9.699841  34.571001 -8.113174   \n",
       "2973099    stress  0.026302 -0.003867  9.686960  34.576087 -8.013713   \n",
       "2973129    stress  0.042109 -0.003963  9.673011  34.574633 -7.891617   \n",
       "2973159    stress  0.129523 -0.003361  9.657459  34.574915 -7.739944   \n",
       "\n",
       "               SD                                          \n",
       "            c_ecg     c_emg     c_eda    c_temp    c_resp  \n",
       "195619   0.002090  0.009186  0.004977  0.027934  0.095312  \n",
       "195649   0.003374  0.009201  0.005119  0.028906  0.159922  \n",
       "195679   0.005158  0.008784  0.004710  0.029605  0.139286  \n",
       "195709   0.003464  0.009975  0.016197  0.027818  0.078954  \n",
       "195739   0.002624  0.010101  0.016235  0.025340  0.111984  \n",
       "...           ...       ...       ...       ...       ...  \n",
       "2973039  0.022726  0.007219  0.008277  0.029617  0.042037  \n",
       "2973069  0.013353  0.012599  0.007354  0.026707  0.054113  \n",
       "2973099  0.013665  0.012488  0.008018  0.022012  0.065593  \n",
       "2973129  0.038115  0.006558  0.008379  0.023415  0.085728  \n",
       "2973159  0.076712  0.007398  0.009616  0.023273  0.102383  \n",
       "\n",
       "[51729 rows x 11 columns]"
      ]
     },
     "execution_count": 26,
     "metadata": {},
     "output_type": "execute_result"
    }
   ],
   "source": [
    "FeaturesDF=pd.concat([Labeled_Data.iloc[:,:1],X_mean,X_std],keys=['','Mean','SD'], axis=1)\n",
    "FeaturesDF=FeaturesDF[59::30]\n",
    "Label=FeaturesDF[('','Labels')]\n",
    "X_new=FeaturesDF[[('Mean','c_ecg'),('SD','c_ecg'),('Mean','c_emg'),('SD','c_emg'),('Mean','c_eda'),('SD','c_eda'),('Mean','c_temp'),('SD','c_temp'),('Mean','c_resp'),('SD','c_resp')]]\n",
    "pd.DataFrame(FeaturesDF.value_counts())\n",
    "\n",
    "FeaturesDF"
   ]
  },
  {
   "cell_type": "code",
   "execution_count": 27,
   "id": "29803b51",
   "metadata": {},
   "outputs": [],
   "source": [
    "# FeaturesDF.to_csv('f55')\n"
   ]
  },
  {
   "cell_type": "markdown",
   "id": "a66544da",
   "metadata": {},
   "source": [
    "## Feature Normalization"
   ]
  },
  {
   "cell_type": "code",
   "execution_count": 28,
   "id": "eafd2cc2",
   "metadata": {},
   "outputs": [
    {
     "data": {
      "text/html": [
       "<div>\n",
       "<style scoped>\n",
       "    .dataframe tbody tr th:only-of-type {\n",
       "        vertical-align: middle;\n",
       "    }\n",
       "\n",
       "    .dataframe tbody tr th {\n",
       "        vertical-align: top;\n",
       "    }\n",
       "\n",
       "    .dataframe thead th {\n",
       "        text-align: right;\n",
       "    }\n",
       "</style>\n",
       "<table border=\"1\" class=\"dataframe\">\n",
       "  <thead>\n",
       "    <tr style=\"text-align: right;\">\n",
       "      <th></th>\n",
       "      <th>0</th>\n",
       "      <th>1</th>\n",
       "      <th>2</th>\n",
       "      <th>3</th>\n",
       "      <th>4</th>\n",
       "      <th>5</th>\n",
       "      <th>6</th>\n",
       "      <th>7</th>\n",
       "      <th>8</th>\n",
       "      <th>9</th>\n",
       "    </tr>\n",
       "  </thead>\n",
       "  <tbody>\n",
       "    <tr>\n",
       "      <th>0</th>\n",
       "      <td>-0.000772</td>\n",
       "      <td>-0.000092</td>\n",
       "      <td>0.182551</td>\n",
       "      <td>0.980160</td>\n",
       "      <td>0.077155</td>\n",
       "      <td>0.000060</td>\n",
       "      <td>0.000262</td>\n",
       "      <td>0.000142</td>\n",
       "      <td>0.000798</td>\n",
       "      <td>0.002723</td>\n",
       "    </tr>\n",
       "    <tr>\n",
       "      <th>1</th>\n",
       "      <td>-0.000673</td>\n",
       "      <td>-0.000112</td>\n",
       "      <td>0.182573</td>\n",
       "      <td>0.980536</td>\n",
       "      <td>0.072070</td>\n",
       "      <td>0.000096</td>\n",
       "      <td>0.000263</td>\n",
       "      <td>0.000146</td>\n",
       "      <td>0.000826</td>\n",
       "      <td>0.004571</td>\n",
       "    </tr>\n",
       "    <tr>\n",
       "      <th>2</th>\n",
       "      <td>-0.000469</td>\n",
       "      <td>-0.000102</td>\n",
       "      <td>0.182595</td>\n",
       "      <td>0.980839</td>\n",
       "      <td>0.067802</td>\n",
       "      <td>0.000147</td>\n",
       "      <td>0.000251</td>\n",
       "      <td>0.000135</td>\n",
       "      <td>0.000846</td>\n",
       "      <td>0.003982</td>\n",
       "    </tr>\n",
       "    <tr>\n",
       "      <th>3</th>\n",
       "      <td>-0.000255</td>\n",
       "      <td>-0.000106</td>\n",
       "      <td>0.182714</td>\n",
       "      <td>0.981032</td>\n",
       "      <td>0.064689</td>\n",
       "      <td>0.000099</td>\n",
       "      <td>0.000285</td>\n",
       "      <td>0.000463</td>\n",
       "      <td>0.000796</td>\n",
       "      <td>0.002258</td>\n",
       "    </tr>\n",
       "    <tr>\n",
       "      <th>4</th>\n",
       "      <td>-0.000123</td>\n",
       "      <td>-0.000084</td>\n",
       "      <td>0.182738</td>\n",
       "      <td>0.981265</td>\n",
       "      <td>0.060946</td>\n",
       "      <td>0.000075</td>\n",
       "      <td>0.000289</td>\n",
       "      <td>0.000464</td>\n",
       "      <td>0.000725</td>\n",
       "      <td>0.003203</td>\n",
       "    </tr>\n",
       "    <tr>\n",
       "      <th>...</th>\n",
       "      <td>...</td>\n",
       "      <td>...</td>\n",
       "      <td>...</td>\n",
       "      <td>...</td>\n",
       "      <td>...</td>\n",
       "      <td>...</td>\n",
       "      <td>...</td>\n",
       "      <td>...</td>\n",
       "      <td>...</td>\n",
       "      <td>...</td>\n",
       "    </tr>\n",
       "    <tr>\n",
       "      <th>51724</th>\n",
       "      <td>0.001036</td>\n",
       "      <td>-0.000108</td>\n",
       "      <td>0.263732</td>\n",
       "      <td>0.938597</td>\n",
       "      <td>-0.222434</td>\n",
       "      <td>0.000617</td>\n",
       "      <td>0.000196</td>\n",
       "      <td>0.000225</td>\n",
       "      <td>0.000804</td>\n",
       "      <td>0.001141</td>\n",
       "    </tr>\n",
       "    <tr>\n",
       "      <th>51725</th>\n",
       "      <td>0.001233</td>\n",
       "      <td>-0.000092</td>\n",
       "      <td>0.263502</td>\n",
       "      <td>0.939141</td>\n",
       "      <td>-0.220399</td>\n",
       "      <td>0.000363</td>\n",
       "      <td>0.000342</td>\n",
       "      <td>0.000200</td>\n",
       "      <td>0.000726</td>\n",
       "      <td>0.001470</td>\n",
       "    </tr>\n",
       "    <tr>\n",
       "      <th>51726</th>\n",
       "      <td>0.000715</td>\n",
       "      <td>-0.000105</td>\n",
       "      <td>0.263298</td>\n",
       "      <td>0.939801</td>\n",
       "      <td>-0.217818</td>\n",
       "      <td>0.000371</td>\n",
       "      <td>0.000339</td>\n",
       "      <td>0.000218</td>\n",
       "      <td>0.000598</td>\n",
       "      <td>0.001783</td>\n",
       "    </tr>\n",
       "    <tr>\n",
       "      <th>51727</th>\n",
       "      <td>0.001146</td>\n",
       "      <td>-0.000108</td>\n",
       "      <td>0.263143</td>\n",
       "      <td>0.940563</td>\n",
       "      <td>-0.214682</td>\n",
       "      <td>0.001037</td>\n",
       "      <td>0.000178</td>\n",
       "      <td>0.000228</td>\n",
       "      <td>0.000637</td>\n",
       "      <td>0.002332</td>\n",
       "    </tr>\n",
       "    <tr>\n",
       "      <th>51728</th>\n",
       "      <td>0.003527</td>\n",
       "      <td>-0.000092</td>\n",
       "      <td>0.262976</td>\n",
       "      <td>0.941487</td>\n",
       "      <td>-0.210761</td>\n",
       "      <td>0.002089</td>\n",
       "      <td>0.000201</td>\n",
       "      <td>0.000262</td>\n",
       "      <td>0.000634</td>\n",
       "      <td>0.002788</td>\n",
       "    </tr>\n",
       "  </tbody>\n",
       "</table>\n",
       "<p>51729 rows × 10 columns</p>\n",
       "</div>"
      ],
      "text/plain": [
       "              0         1         2         3         4         5         6  \\\n",
       "0     -0.000772 -0.000092  0.182551  0.980160  0.077155  0.000060  0.000262   \n",
       "1     -0.000673 -0.000112  0.182573  0.980536  0.072070  0.000096  0.000263   \n",
       "2     -0.000469 -0.000102  0.182595  0.980839  0.067802  0.000147  0.000251   \n",
       "3     -0.000255 -0.000106  0.182714  0.981032  0.064689  0.000099  0.000285   \n",
       "4     -0.000123 -0.000084  0.182738  0.981265  0.060946  0.000075  0.000289   \n",
       "...         ...       ...       ...       ...       ...       ...       ...   \n",
       "51724  0.001036 -0.000108  0.263732  0.938597 -0.222434  0.000617  0.000196   \n",
       "51725  0.001233 -0.000092  0.263502  0.939141 -0.220399  0.000363  0.000342   \n",
       "51726  0.000715 -0.000105  0.263298  0.939801 -0.217818  0.000371  0.000339   \n",
       "51727  0.001146 -0.000108  0.263143  0.940563 -0.214682  0.001037  0.000178   \n",
       "51728  0.003527 -0.000092  0.262976  0.941487 -0.210761  0.002089  0.000201   \n",
       "\n",
       "              7         8         9  \n",
       "0      0.000142  0.000798  0.002723  \n",
       "1      0.000146  0.000826  0.004571  \n",
       "2      0.000135  0.000846  0.003982  \n",
       "3      0.000463  0.000796  0.002258  \n",
       "4      0.000464  0.000725  0.003203  \n",
       "...         ...       ...       ...  \n",
       "51724  0.000225  0.000804  0.001141  \n",
       "51725  0.000200  0.000726  0.001470  \n",
       "51726  0.000218  0.000598  0.001783  \n",
       "51727  0.000228  0.000637  0.002332  \n",
       "51728  0.000262  0.000634  0.002788  \n",
       "\n",
       "[51729 rows x 10 columns]"
      ]
     },
     "execution_count": 28,
     "metadata": {},
     "output_type": "execute_result"
    }
   ],
   "source": [
    "from sklearn.preprocessing import normalize\n",
    "X=FeaturesDF.iloc[:,[1,2,3,4,5,6,7,8,9,10]]  #independent variable X\n",
    "y=FeaturesDF.iloc[:,0] #dependent variable y\n",
    "\n",
    "X=normalize(X)\n",
    "norm_df = pd.DataFrame(X)\n",
    "norm_df"
   ]
  },
  {
   "cell_type": "code",
   "execution_count": 29,
   "id": "e3b416d5",
   "metadata": {},
   "outputs": [
    {
     "name": "stdout",
     "output_type": "stream",
     "text": [
      "<class 'pandas.core.frame.DataFrame'>\n",
      "RangeIndex: 51729 entries, 0 to 51728\n",
      "Data columns (total 10 columns):\n",
      " #   Column  Non-Null Count  Dtype  \n",
      "---  ------  --------------  -----  \n",
      " 0   0       51729 non-null  float64\n",
      " 1   1       51729 non-null  float64\n",
      " 2   2       51729 non-null  float64\n",
      " 3   3       51729 non-null  float64\n",
      " 4   4       51729 non-null  float64\n",
      " 5   5       51729 non-null  float64\n",
      " 6   6       51729 non-null  float64\n",
      " 7   7       51729 non-null  float64\n",
      " 8   8       51729 non-null  float64\n",
      " 9   9       51729 non-null  float64\n",
      "dtypes: float64(10)\n",
      "memory usage: 3.9 MB\n"
     ]
    }
   ],
   "source": [
    "norm_df.info()"
   ]
  },
  {
   "cell_type": "markdown",
   "id": "bbec1c72",
   "metadata": {},
   "source": [
    "## Correlation Matrix"
   ]
  },
  {
   "cell_type": "code",
   "execution_count": 30,
   "id": "7e639fe7",
   "metadata": {},
   "outputs": [
    {
     "data": {
      "image/png": "[encoded data removed]",
      "text/plain": [
       "<Figure size 864x720 with 2 Axes>"
      ]
     },
     "metadata": {
      "needs_background": "light"
     },
     "output_type": "display_data"
    }
   ],
   "source": [
    "import seaborn as sns\n",
    "plt.figure(figsize=(12,10))\n",
    "cor = norm_df.corr()\n",
    "sns.heatmap(cor, annot=True, cmap=plt.cm.Reds)\n",
    "plt.show()"
   ]
  },
  {
   "cell_type": "markdown",
   "id": "29b500f7",
   "metadata": {},
   "source": [
    "## Split the Data into Training and Testing Sets"
   ]
  },
  {
   "cell_type": "code",
   "execution_count": 31,
   "id": "08246515",
   "metadata": {},
   "outputs": [],
   "source": [
    "from sklearn.model_selection import train_test_split\n",
    "X_train, X_test, y_train, y_test = train_test_split(X, y, test_size = 0.4, random_state=45, shuffle=True)"
   ]
  },
  {
   "cell_type": "code",
   "execution_count": 32,
   "id": "3b400773",
   "metadata": {},
   "outputs": [],
   "source": [
    "# # from sklearn.preprocessing import StandardScaler\n",
    "# from sklearn.metrics import silhouette_score\n",
    "# features = [\"c_ecg\", \"c_emg\", \"c_eda\", \"c_temp\", \"c_resp\"]\n",
    "# Xmk = Labeled_Data[features]\n",
    "# # z = StandardScaler()\n",
    "# # Xmk[features] = z.fit_transform(X)\n",
    "# EM = GaussianMixture(n_components=3)\n",
    "\n",
    "# EM.fit(Xmk)\n",
    "\n",
    "# Cluster = EM.predict(Xmk)\n",
    "# Cluster_P = EM.predict_proba(Xmk)\n",
    "# Cluster_P\n",
    "# # print(\"SILHOETTE: \", silhouette_score(X, Cluster))\n",
    "# Cluster.shape"
   ]
  },
  {
   "cell_type": "code",
   "execution_count": 33,
   "id": "c66e65d3",
   "metadata": {},
   "outputs": [],
   "source": [
    "# from sklearn.model_selection import KFold\n",
    "# kf = KFold(n_splits=3)\n",
    "# kf"
   ]
  },
  {
   "cell_type": "code",
   "execution_count": 34,
   "id": "415ff3f6",
   "metadata": {},
   "outputs": [],
   "source": [
    "# from sklearn.model_selection import cross_val_score\n",
    "# cross_val_score(GMM(gamma='auto'), norm_df.data, norm_df.target,cv=3)"
   ]
  },
  {
   "cell_type": "markdown",
   "id": "357fcdac",
   "metadata": {},
   "source": [
    "## Applying GMM algorithm"
   ]
  },
  {
   "cell_type": "code",
   "execution_count": 35,
   "id": "b45e2e64",
   "metadata": {},
   "outputs": [],
   "source": [
    "from sklearn.mixture import GaussianMixture\n",
    "EM = GaussianMixture(n_components=3, max_iter=500, random_state=45)\n",
    "GMM = EM.fit(X_train)\n",
    "# proba = EM.predict_proba(X_train)\n",
    "prediction_gmm = EM.predict(X_train)\n",
    "\n",
    "# gmm = GaussianMixture(n_components=10).fit(X_train)\n",
    "# labels = gmm.predict(X_train)\n",
    "# plt.scatter(X_train[:, 0], X_train[:, 1], c=labels, s=40, cmap='viridis');"
   ]
  },
  {
   "cell_type": "code",
   "execution_count": 36,
   "id": "87bf5575",
   "metadata": {},
   "outputs": [],
   "source": [
    "LCDF = pd.DataFrame({'Clusters': prediction_gmm, 'Given Labels': y_train})\n",
    "ClustersDataDF = pd.DataFrame({'Clusters': prediction_gmm, 'mean c_ecg': X_train[:,0], 'mean c_emg': X_train[:,1], \n",
    "                               'mean c_eda': X_train[:,2], 'mean c_temp': X_train[:,3], 'mean c_resp': X_train[:,4],\n",
    "                               'std c_ecg': X_train[:,5], 'std c_emg': X_train[:,6], 'std c_eda': X_train[:,7],\n",
    "                               'std c_temp': X_train[:,8], 'std c_resp': X_train[:,9]})\n",
    "\n",
    "\n",
    "LCDF = pd.DataFrame({'Clusters': prediction_gmm, 'Given Labels': y_train})"
   ]
  },
  {
   "cell_type": "code",
   "execution_count": 37,
   "id": "273837ad",
   "metadata": {},
   "outputs": [],
   "source": [
    "#crosstab matrix (pivot table)\n",
    "\n",
    "ctMatrix = pd.crosstab(LCDF['Clusters'], LCDF['Given Labels'], margins=True, margins_name='All')"
   ]
  },
  {
   "cell_type": "code",
   "execution_count": 38,
   "id": "0dc8173c",
   "metadata": {},
   "outputs": [
    {
     "data": {
      "text/plain": [
       "2753259      stress\n",
       "737209     baseline\n",
       "559969     baseline\n",
       "1493009    baseline\n",
       "676459     baseline\n",
       "             ...   \n",
       "1439189    baseline\n",
       "685129     baseline\n",
       "582469     baseline\n",
       "375979       stress\n",
       "392359     baseline\n",
       "Name: N2L, Length: 31037, dtype: object"
      ]
     },
     "execution_count": 38,
     "metadata": {},
     "output_type": "execute_result"
    }
   ],
   "source": [
    "#converting the clusters numbers we get into names\n",
    "\n",
    "def convr(label):\n",
    "    if label==0:\n",
    "        return 'baseline'\n",
    "    elif label==1:\n",
    "        return 'amusement'\n",
    "    elif label==2:\n",
    "        return 'stress'\n",
    "    \n",
    "LCDF['N2L'] = LCDF['Clusters'].apply(convr)\n",
    "LCDF['N2L']"
   ]
  },
  {
   "cell_type": "code",
   "execution_count": 39,
   "id": "13bde1b1",
   "metadata": {},
   "outputs": [
    {
     "name": "stdout",
     "output_type": "stream",
     "text": [
      "              precision    recall  f1-score   support\n",
      "\n",
      "   amusement       0.03      0.04      0.03      3391\n",
      "    baseline       0.94      0.76      0.84     20517\n",
      "      stress       0.70      0.89      0.78      7129\n",
      "\n",
      "    accuracy                           0.72     31037\n",
      "   macro avg       0.55      0.57      0.55     31037\n",
      "weighted avg       0.78      0.72      0.74     31037\n",
      "\n",
      "[[  143   493  2755]\n",
      " [ 4837 15680     0]\n",
      " [  224   532  6373]]\n"
     ]
    },
    {
     "data": {
      "text/plain": [
       "0.7151464381222412"
      ]
     },
     "execution_count": 39,
     "metadata": {},
     "output_type": "execute_result"
    }
   ],
   "source": [
    "#getting Clustering report, Confusion Matrix, and Accuracy Score\n",
    "from sklearn.metrics import classification_report, confusion_matrix, accuracy_score\n",
    "\n",
    "print(classification_report(LCDF['N2L'], LCDF['Given Labels']))\n",
    "print(confusion_matrix(LCDF['N2L'], LCDF['Given Labels']))\n",
    "accuracy_score(LCDF['N2L'], LCDF['Given Labels'])"
   ]
  },
  {
   "cell_type": "code",
   "execution_count": null,
   "id": "e63bf014",
   "metadata": {},
   "outputs": [],
   "source": []
  }
 ],
 "metadata": {
  "kernelspec": {
   "display_name": "Python 3",
   "language": "python",
   "name": "python3"
  },
  "language_info": {
   "codemirror_mode": {
    "name": "ipython",
    "version": 3
   },
   "file_extension": ".py",
   "mimetype": "text/x-python",
   "name": "python",
   "nbconvert_exporter": "python",
   "pygments_lexer": "ipython3",
   "version": "3.8.8"
  }
 },
 "nbformat": 4,
 "nbformat_minor": 5
}
